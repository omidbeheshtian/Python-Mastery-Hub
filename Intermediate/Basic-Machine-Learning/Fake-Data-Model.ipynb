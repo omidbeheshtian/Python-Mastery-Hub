{
 "cells": [
  {
   "cell_type": "markdown",
   "metadata": {},
   "source": [
    "# Import Libraries\n"
   ]
  },
  {
   "cell_type": "code",
   "execution_count": 1,
   "metadata": {},
   "outputs": [],
   "source": [
    "import pandas as pd  # For Work with Data\n",
    "from sklearn.model_selection import train_test_split  # For Data Splitting\n",
    "from sklearn.linear_model import LinearRegression  # A simple Model of regression because it doesn`t need classification\n",
    "from sklearn.metrics import mean_absolute_error  # For Calculate Error of Model (Error Calculation)\n",
    "import matplotlib.pyplot as plt  # For Draw Plot of Model"
   ]
  },
  {
   "cell_type": "markdown",
   "metadata": {},
   "source": [
    "## Create Data"
   ]
  },
  {
   "cell_type": "code",
   "execution_count": 2,
   "metadata": {},
   "outputs": [],
   "source": [
    "# Create Artificial (Fake) Data instead of use real CSV File. it should be dict and list value\n",
    "data = {\n",
    "    \"Hours_Studied\": [1, 2, 3, 4, 5, 6, 7, 8, 9, 10],\n",
    "    \"Exam_Score\": [50, 55, 65, 70, 75, 78, 85, 88, 92, 95]\n",
    "}"
   ]
  },
  {
   "cell_type": "markdown",
   "metadata": {},
   "source": [
    "## Convert to DataFrame and test"
   ]
  },
  {
   "cell_type": "code",
   "execution_count": 11,
   "metadata": {},
   "outputs": [
    {
     "data": {
      "text/html": [
       "<div>\n",
       "<style scoped>\n",
       "    .dataframe tbody tr th:only-of-type {\n",
       "        vertical-align: middle;\n",
       "    }\n",
       "\n",
       "    .dataframe tbody tr th {\n",
       "        vertical-align: top;\n",
       "    }\n",
       "\n",
       "    .dataframe thead th {\n",
       "        text-align: right;\n",
       "    }\n",
       "</style>\n",
       "<table border=\"1\" class=\"dataframe\">\n",
       "  <thead>\n",
       "    <tr style=\"text-align: right;\">\n",
       "      <th></th>\n",
       "      <th>Hours_Studied</th>\n",
       "      <th>Exam_Score</th>\n",
       "    </tr>\n",
       "  </thead>\n",
       "  <tbody>\n",
       "    <tr>\n",
       "      <th>0</th>\n",
       "      <td>1</td>\n",
       "      <td>50</td>\n",
       "    </tr>\n",
       "    <tr>\n",
       "      <th>1</th>\n",
       "      <td>2</td>\n",
       "      <td>55</td>\n",
       "    </tr>\n",
       "    <tr>\n",
       "      <th>2</th>\n",
       "      <td>3</td>\n",
       "      <td>65</td>\n",
       "    </tr>\n",
       "    <tr>\n",
       "      <th>3</th>\n",
       "      <td>4</td>\n",
       "      <td>70</td>\n",
       "    </tr>\n",
       "    <tr>\n",
       "      <th>4</th>\n",
       "      <td>5</td>\n",
       "      <td>75</td>\n",
       "    </tr>\n",
       "    <tr>\n",
       "      <th>5</th>\n",
       "      <td>6</td>\n",
       "      <td>78</td>\n",
       "    </tr>\n",
       "    <tr>\n",
       "      <th>6</th>\n",
       "      <td>7</td>\n",
       "      <td>85</td>\n",
       "    </tr>\n",
       "    <tr>\n",
       "      <th>7</th>\n",
       "      <td>8</td>\n",
       "      <td>88</td>\n",
       "    </tr>\n",
       "    <tr>\n",
       "      <th>8</th>\n",
       "      <td>9</td>\n",
       "      <td>92</td>\n",
       "    </tr>\n",
       "    <tr>\n",
       "      <th>9</th>\n",
       "      <td>10</td>\n",
       "      <td>95</td>\n",
       "    </tr>\n",
       "  </tbody>\n",
       "</table>\n",
       "</div>"
      ],
      "text/plain": [
       "   Hours_Studied  Exam_Score\n",
       "0              1          50\n",
       "1              2          55\n",
       "2              3          65\n",
       "3              4          70\n",
       "4              5          75\n",
       "5              6          78\n",
       "6              7          85\n",
       "7              8          88\n",
       "8              9          92\n",
       "9             10          95"
      ]
     },
     "execution_count": 11,
     "metadata": {},
     "output_type": "execute_result"
    }
   ],
   "source": [
    "df = pd.DataFrame(data)  # Cخnvert Data`s to DataFrame with pandas library\n",
    "# print(df.head())  # Show first five lines\n",
    "df"
   ]
  },
  {
   "cell_type": "markdown",
   "metadata": {},
   "source": [
    "# Data Splitting"
   ]
  },
  {
   "cell_type": "code",
   "execution_count": 4,
   "metadata": {},
   "outputs": [
    {
     "name": "stdout",
     "output_type": "stream",
     "text": [
      "Train Data`s: 8\n",
      "Test Data`s: 2\n"
     ]
    }
   ],
   "source": [
    "# Definition Input(x) and Export(y)\n",
    "X = df[[\"Hours_Studied\"]]  # Absoloute Input Variable\n",
    "y = df[\"Exam_Score\"]  # Export Realtive Variable\n",
    "\n",
    "# Data Splitting to 80% for train and 20% for Test\n",
    "X_train, X_test, y_train, y_test = train_test_split(X, y, test_size=0.2, random_state=42)\n",
    "\n",
    "print(f\"Train Data`s: {len(X_train)}\")\n",
    "print(f\"Test Data`s: {len(X_test)}\")"
   ]
  },
  {
   "cell_type": "markdown",
   "metadata": {},
   "source": [
    "# Create Model"
   ]
  },
  {
   "cell_type": "code",
   "execution_count": 8,
   "metadata": {},
   "outputs": [
    {
     "name": "stdout",
     "output_type": "stream",
     "text": [
      "Line slope (m): 4.8965517241379315\n",
      "Width from origin (b): 48.81896551724138\n"
     ]
    }
   ],
   "source": [
    "# We Create our model here\n",
    "model = LinearRegression()\n",
    "\n",
    "# Train The Model With data\n",
    "model.fit(X_train, y_train)\n",
    "\n",
    "# Show the slope and width from the origin of the equation of the line y = mx + b\n",
    "print(f\"Line slope (m): {model.coef_[0]}\")\n",
    "print(f\"Width from origin (b): {model.intercept_}\")"
   ]
  },
  {
   "cell_type": "markdown",
   "metadata": {},
   "source": [
    "# Plot The Training"
   ]
  },
  {
   "cell_type": "code",
   "execution_count": 6,
   "metadata": {},
   "outputs": [
    {
     "data": {
      "image/png": "[encoded data removed]",
      "text/plain": [
       "<Figure size 640x480 with 1 Axes>"
      ]
     },
     "metadata": {},
     "output_type": "display_data"
    }
   ],
   "source": [
    "# Draw actual data line\n",
    "plt.scatter(X, y, color=\"blue\", label=\"Real (Actual) Data`s\")\n",
    "\n",
    "# Draw the regression line\n",
    "plt.plot(X, model.predict(X), color=\"Red\", linewidth=2, label=\"Regression Line\")\n",
    "\n",
    "# Tags and Titles\n",
    "plt.xlabel(\"Hours Studied\")  # X axis\n",
    "plt.ylabel(\"Exam Score\")  # Y axis\n",
    "plt.title(\"Linear Regression: Study Hours vs Exam Score\")\n",
    "plt.legend()  # Show The Labels\n",
    "\n",
    "# Show The Plot\n",
    "plt.show()"
   ]
  },
  {
   "cell_type": "markdown",
   "metadata": {},
   "source": [
    "# Testing Model"
   ]
  },
  {
   "cell_type": "code",
   "execution_count": 7,
   "metadata": {},
   "outputs": [
    {
     "name": "stdout",
     "output_type": "stream",
     "text": [
      "Real: 92,  Predivted: 92.89\n",
      "Real: 55,  Predivted: 58.61\n",
      "Error of Model: 2.25\n"
     ]
    }
   ],
   "source": [
    "# Predict Exam score of students that are in the out test zone after data splitting\n",
    "y_pred = model.predict(X_test)\n",
    "\n",
    "# Show real scores and predicted scores\n",
    "for actual, predicted in zip(y_test, y_pred):\n",
    "    print(f\"Real: {actual},  Predivted: {predicted:.2f}\")\n",
    "\n",
    "# Error Calculation (Mean Absolute Error)\n",
    "mae = mean_absolute_error(y_test, y_pred)\n",
    "print(f\"Error of Model: {mae:.2f}\")\n"
   ]
  }
 ],
 "metadata": {
  "kernelspec": {
   "display_name": "Python 3",
   "language": "python",
   "name": "python3"
  },
  "language_info": {
   "codemirror_mode": {
    "name": "ipython",
    "version": 3
   },
   "file_extension": ".py",
   "mimetype": "text/x-python",
   "name": "python",
   "nbconvert_exporter": "python",
   "pygments_lexer": "ipython3",
   "version": "3.11.9"
  }
 },
 "nbformat": 4,
 "nbformat_minor": 2
}
